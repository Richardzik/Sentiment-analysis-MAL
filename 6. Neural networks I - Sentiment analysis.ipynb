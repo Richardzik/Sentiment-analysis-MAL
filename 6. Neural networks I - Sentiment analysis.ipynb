{
 "cells": [
  {
   "cell_type": "markdown",
   "id": "5bc9be56",
   "metadata": {},
   "source": [
    "## Sentiment Analysis"
   ]
  },
  {
   "cell_type": "markdown",
   "id": "818b3b52",
   "metadata": {},
   "source": [
    "In this exercise we use the IMDb-dataset, which we will use to perform a sentiment analysis. The code below assumes that the data is placed in the same folder as this notebook. We see that the reviews are loaded as a pandas dataframe, and print the beginning of the first few reviews."
   ]
  },
  {
   "cell_type": "code",
   "execution_count": 7,
   "id": "67da3bc0",
   "metadata": {},
   "outputs": [
    {
     "name": "stdout",
     "output_type": "stream",
     "text": [
      "<class 'pandas.core.frame.DataFrame'>\n",
      "                                                   0\n",
      "0  bromwell high is a cartoon comedy . it ran at ...\n",
      "1  story of a man who has unnatural feelings for ...\n",
      "2  homelessness  or houselessness as george carli...\n",
      "3  airport    starts as a brand new luxury    pla...\n",
      "4  brilliant over  acting by lesley ann warren . ...\n"
     ]
    }
   ],
   "source": [
    "import numpy as np\n",
    "import pandas as pd\n",
    "from sklearn.feature_extraction.text import CountVectorizer\n",
    "from sklearn.model_selection import train_test_split\n",
    "import tensorflow as tf\n",
    "from sklearn.datasets import load_digits\n",
    "from sklearn.model_selection import train_test_split\n",
    "import matplotlib.pyplot as plt\n",
    "from keras.layers import Dense\n",
    "from keras.models import Sequential\n",
    "from keras.utils import to_categorical\n",
    "from keras.optimizers import Adam, SGD\n",
    "from keras.callbacks import EarlyStopping # Added EarlyStopping\n",
    "from keras.layers import Dropout\n",
    "from keras import regularizers\n",
    "from numpy.random import seed, randint\n",
    "\n",
    "reviews = pd.read_csv('reviews.txt', header=None)\n",
    "labels = pd.read_csv('labels.txt', header=None)\n",
    "Y = (labels=='positive').astype(np.int_)\n",
    "\n",
    "print(type(reviews))\n",
    "print(reviews.head())"
   ]
  },
  {
   "cell_type": "markdown",
   "id": "4982b946",
   "metadata": {},
   "source": [
    "**(a)** Split the reviews and labels in test, train and validation sets. The train and validation sets will be used to train your model and tune hyperparameters, the test set will be saved for testing. Use the `CountVectorizer` from `sklearn.feature_extraction.text` to create a Bag-of-Words representation of the reviews. Only use the 10,000 most frequent words (use the `max_features`-parameter of `CountVectorizer`)."
   ]
  },
  {
   "cell_type": "markdown",
   "id": "ebf07ee9",
   "metadata": {},
   "source": [
    "**(b)** Explore the representation of the reviews. How is a single word represented? How about a whole review?"
   ]
  },
  {
   "cell_type": "markdown",
   "id": "c2638fce",
   "metadata": {},
   "source": [
    "**(c)** Train a neural network with a single hidden layer on the dataset, tuning the relevant hyperparameters to optimize accuracy. "
   ]
  },
  {
   "cell_type": "markdown",
   "id": "1fd327a6",
   "metadata": {},
   "source": [
    "**(d)** Test your sentiment-classifier on the test set."
   ]
  },
  {
   "cell_type": "markdown",
   "id": "fd44ee62",
   "metadata": {},
   "source": [
    "**(e)** Use the classifier to classify a few sentences you write yourselves. "
   ]
  },
  {
   "cell_type": "code",
   "execution_count": 8,
   "id": "a1ef2970",
   "metadata": {},
   "outputs": [
    {
     "name": "stdout",
     "output_type": "stream",
     "text": [
      "(14062, 10000)\n",
      "(4688, 10000)\n",
      "(6250, 10000)\n"
     ]
    }
   ],
   "source": [
    "#A)\n",
    "\n",
    "X_trainval, X_test, y_trainval, y_test = train_test_split(reviews[0], Y[0] , random_state=42)\n",
    "X_train, X_val, y_train, y_val = train_test_split(X_trainval, y_trainval, \n",
    "                                                  random_state=43)\n",
    "\n",
    "count_vectorizer = CountVectorizer(max_features=10000)\n",
    "X_train_bow = count_vectorizer.fit_transform(X_train)\n",
    "X_val_bow = count_vectorizer.transform(X_val)\n",
    "X_test_bow = count_vectorizer.transform(X_test)\n",
    "\n",
    "print(X_train_bow.shape)\n",
    "print(X_val_bow.shape)\n",
    "print(X_test_bow.shape)"
   ]
  },
  {
   "cell_type": "code",
   "execution_count": 9,
   "id": "2088c940-51f5-4b84-aab0-6143de9a8d63",
   "metadata": {},
   "outputs": [
    {
     "name": "stdout",
     "output_type": "stream",
     "text": [
      "Single words\n",
      "the: 189639\n",
      "and: 92662\n",
      "of: 81947\n",
      "to: 76525\n",
      "is: 60238\n",
      "br: 57951\n",
      "it: 54143\n",
      "in: 52645\n",
      "this: 42800\n",
      "that: 41490\n",
      "was: 27177\n",
      "as: 26199\n",
      "with: 24930\n",
      "for: 24876\n",
      "movie: 24663\n",
      "but: 24014\n",
      "film: 22633\n",
      "on: 19237\n",
      "you: 19123\n",
      "not: 17170\n",
      "he: 16856\n",
      "are: 16513\n",
      "his: 16441\n",
      "have: 15701\n",
      "be: 15166\n",
      "one: 15123\n",
      "all: 13579\n",
      "at: 13266\n",
      "they: 12683\n",
      "by: 12631\n",
      "who: 12078\n",
      "an: 12051\n",
      "from: 11532\n",
      "so: 11485\n",
      "like: 11294\n",
      "there: 10550\n",
      "her: 10346\n",
      "or: 10061\n",
      "just: 10059\n",
      "about: 9690\n",
      "out: 9667\n",
      "if: 9386\n",
      "has: 9364\n",
      "what: 9080\n",
      "some: 8931\n",
      "good: 8460\n",
      "can: 8205\n",
      "more: 8039\n",
      "she: 8001\n",
      "when: 7971\n",
      "\n",
      "\n",
      "Review words\n",
      "the: 4\n",
      "it: 3\n",
      "and: 2\n",
      "wacky: 2\n",
      "see: 2\n",
      "this: 1\n",
      "movie: 1\n",
      "is: 1\n",
      "not: 1\n",
      "only: 1\n",
      "funniest: 1\n",
      "film: 1\n",
      "ever: 1\n",
      "created: 1\n",
      "greatest: 1\n",
      "my: 1\n",
      "hats: 1\n",
      "off: 1\n",
      "to: 1\n",
      "mr: 1\n",
      "mrs: 1\n",
      "rest: 1\n",
      "of: 1\n",
      "cast: 1\n",
      "good: 1\n",
      "morning: 1\n",
      "satan: 1\n",
      "want: 1\n",
      "post: 1\n",
      "go: 1\n",
      "now: 1\n"
     ]
    }
   ],
   "source": [
    "#B) \n",
    "# for a single word\n",
    "print(\"Single words\")\n",
    "word_counts = np.asarray(X_train_bow.sum(axis=0)).flatten()\n",
    "vocab = count_vectorizer.get_feature_names_out()\n",
    "\n",
    "word_freq = list(zip(vocab, word_counts))\n",
    "word_freq_sorted = sorted(word_freq, key=lambda x: x[1], reverse=True)\n",
    "# Print top 50 most common words\n",
    "for word, freq in word_freq_sorted[:50]:\n",
    "    print(f\"{word}: {freq}\")\n",
    "\n",
    "print(\"\\n\")\n",
    "\n",
    "# for a review\n",
    "print(\"Review words\")\n",
    "sample_idx = 0\n",
    "sample_vector = X_train_bow[sample_idx]\n",
    "\n",
    "vocab = count_vectorizer.get_feature_names_out()\n",
    "\n",
    "word_indices = sample_vector.nonzero()[1]\n",
    "word_counts = sample_vector.data\n",
    "\n",
    "bow_representation = {vocab[i]: count for i, count in zip(word_indices, word_counts)}\n",
    "\n",
    "for word, count in sorted(bow_representation.items(), key=lambda x: x[1], reverse=True):\n",
    "    print(f\"{word}: {count}\")"
   ]
  },
  {
   "cell_type": "markdown",
   "id": "728883bf-39c0-486f-b8fd-13c27051ad07",
   "metadata": {},
   "source": [
    "## Single word representation\n",
    "<b>Single words are represented in a way that, the higher is the word in Bag-of-Words, the more frequently it is used in a review. We can say they are represented in a hierarchy most to least frequently used words</b>\n",
    "\n",
    "## Whole review representation\n",
    "<b>In whole review representation we can see how often each word was used in the context of that, exact review. We can see how repetitive the person was while writing the review</b>\n"
   ]
  },
  {
   "cell_type": "code",
   "execution_count": null,
   "id": "76e027b5-6897-4ff1-8837-a02b1d38eb4e",
   "metadata": {},
   "outputs": [
    {
     "data": {
      "text/html": [
       "<pre style=\"white-space:pre;overflow-x:auto;line-height:normal;font-family:Menlo,'DejaVu Sans Mono',consolas,'Courier New',monospace\"><span style=\"font-weight: bold\">Model: \"sequential_37\"</span>\n",
       "</pre>\n"
      ],
      "text/plain": [
       "\u001b[1mModel: \"sequential_37\"\u001b[0m\n"
      ]
     },
     "metadata": {},
     "output_type": "display_data"
    },
    {
     "data": {
      "text/html": [
       "<pre style=\"white-space:pre;overflow-x:auto;line-height:normal;font-family:Menlo,'DejaVu Sans Mono',consolas,'Courier New',monospace\">┏━━━━━━━━━━━━━━━━━━━━━━━━━━━━━━━━━┳━━━━━━━━━━━━━━━━━━━━━━━━┳━━━━━━━━━━━━━━━┓\n",
       "┃<span style=\"font-weight: bold\"> Layer (type)                    </span>┃<span style=\"font-weight: bold\"> Output Shape           </span>┃<span style=\"font-weight: bold\">       Param # </span>┃\n",
       "┡━━━━━━━━━━━━━━━━━━━━━━━━━━━━━━━━━╇━━━━━━━━━━━━━━━━━━━━━━━━╇━━━━━━━━━━━━━━━┩\n",
       "│ dense_72 (<span style=\"color: #0087ff; text-decoration-color: #0087ff\">Dense</span>)                │ (<span style=\"color: #00d7ff; text-decoration-color: #00d7ff\">None</span>, <span style=\"color: #00af00; text-decoration-color: #00af00\">32</span>)             │       <span style=\"color: #00af00; text-decoration-color: #00af00\">320,032</span> │\n",
       "├─────────────────────────────────┼────────────────────────┼───────────────┤\n",
       "│ dense_73 (<span style=\"color: #0087ff; text-decoration-color: #0087ff\">Dense</span>)                │ (<span style=\"color: #00d7ff; text-decoration-color: #00d7ff\">None</span>, <span style=\"color: #00af00; text-decoration-color: #00af00\">2</span>)              │            <span style=\"color: #00af00; text-decoration-color: #00af00\">66</span> │\n",
       "└─────────────────────────────────┴────────────────────────┴───────────────┘\n",
       "</pre>\n"
      ],
      "text/plain": [
       "┏━━━━━━━━━━━━━━━━━━━━━━━━━━━━━━━━━┳━━━━━━━━━━━━━━━━━━━━━━━━┳━━━━━━━━━━━━━━━┓\n",
       "┃\u001b[1m \u001b[0m\u001b[1mLayer (type)                   \u001b[0m\u001b[1m \u001b[0m┃\u001b[1m \u001b[0m\u001b[1mOutput Shape          \u001b[0m\u001b[1m \u001b[0m┃\u001b[1m \u001b[0m\u001b[1m      Param #\u001b[0m\u001b[1m \u001b[0m┃\n",
       "┡━━━━━━━━━━━━━━━━━━━━━━━━━━━━━━━━━╇━━━━━━━━━━━━━━━━━━━━━━━━╇━━━━━━━━━━━━━━━┩\n",
       "│ dense_72 (\u001b[38;5;33mDense\u001b[0m)                │ (\u001b[38;5;45mNone\u001b[0m, \u001b[38;5;34m32\u001b[0m)             │       \u001b[38;5;34m320,032\u001b[0m │\n",
       "├─────────────────────────────────┼────────────────────────┼───────────────┤\n",
       "│ dense_73 (\u001b[38;5;33mDense\u001b[0m)                │ (\u001b[38;5;45mNone\u001b[0m, \u001b[38;5;34m2\u001b[0m)              │            \u001b[38;5;34m66\u001b[0m │\n",
       "└─────────────────────────────────┴────────────────────────┴───────────────┘\n"
      ]
     },
     "metadata": {},
     "output_type": "display_data"
    },
    {
     "data": {
      "text/html": [
       "<pre style=\"white-space:pre;overflow-x:auto;line-height:normal;font-family:Menlo,'DejaVu Sans Mono',consolas,'Courier New',monospace\"><span style=\"font-weight: bold\"> Total params: </span><span style=\"color: #00af00; text-decoration-color: #00af00\">320,098</span> (1.22 MB)\n",
       "</pre>\n"
      ],
      "text/plain": [
       "\u001b[1m Total params: \u001b[0m\u001b[38;5;34m320,098\u001b[0m (1.22 MB)\n"
      ]
     },
     "metadata": {},
     "output_type": "display_data"
    },
    {
     "data": {
      "text/html": [
       "<pre style=\"white-space:pre;overflow-x:auto;line-height:normal;font-family:Menlo,'DejaVu Sans Mono',consolas,'Courier New',monospace\"><span style=\"font-weight: bold\"> Trainable params: </span><span style=\"color: #00af00; text-decoration-color: #00af00\">320,098</span> (1.22 MB)\n",
       "</pre>\n"
      ],
      "text/plain": [
       "\u001b[1m Trainable params: \u001b[0m\u001b[38;5;34m320,098\u001b[0m (1.22 MB)\n"
      ]
     },
     "metadata": {},
     "output_type": "display_data"
    },
    {
     "data": {
      "text/html": [
       "<pre style=\"white-space:pre;overflow-x:auto;line-height:normal;font-family:Menlo,'DejaVu Sans Mono',consolas,'Courier New',monospace\"><span style=\"font-weight: bold\"> Non-trainable params: </span><span style=\"color: #00af00; text-decoration-color: #00af00\">0</span> (0.00 B)\n",
       "</pre>\n"
      ],
      "text/plain": [
       "\u001b[1m Non-trainable params: \u001b[0m\u001b[38;5;34m0\u001b[0m (0.00 B)\n"
      ]
     },
     "metadata": {},
     "output_type": "display_data"
    },
    {
     "name": "stdout",
     "output_type": "stream",
     "text": [
      "Epoch 1/10\n",
      "\u001b[1m440/440\u001b[0m \u001b[32m━━━━━━━━━━━━━━━━━━━━\u001b[0m\u001b[37m\u001b[0m \u001b[1m1s\u001b[0m 2ms/step - accuracy: 0.5933 - loss: 0.7118 - val_accuracy: 0.6928 - val_loss: 0.5434\n",
      "Epoch 2/10\n",
      "\u001b[1m440/440\u001b[0m \u001b[32m━━━━━━━━━━━━━━━━━━━━\u001b[0m\u001b[37m\u001b[0m \u001b[1m1s\u001b[0m 2ms/step - accuracy: 0.7531 - loss: 0.5081 - val_accuracy: 0.8332 - val_loss: 0.3831\n",
      "Epoch 3/10\n",
      "\u001b[1m440/440\u001b[0m \u001b[32m━━━━━━━━━━━━━━━━━━━━\u001b[0m\u001b[37m\u001b[0m \u001b[1m1s\u001b[0m 1ms/step - accuracy: 0.7856 - loss: 0.4582 - val_accuracy: 0.8349 - val_loss: 0.3765\n",
      "Epoch 4/10\n",
      "\u001b[1m440/440\u001b[0m \u001b[32m━━━━━━━━━━━━━━━━━━━━\u001b[0m\u001b[37m\u001b[0m \u001b[1m1s\u001b[0m 1ms/step - accuracy: 0.8158 - loss: 0.4005 - val_accuracy: 0.8202 - val_loss: 0.4170\n",
      "Epoch 5/10\n",
      "\u001b[1m440/440\u001b[0m \u001b[32m━━━━━━━━━━━━━━━━━━━━\u001b[0m\u001b[37m\u001b[0m \u001b[1m1s\u001b[0m 1ms/step - accuracy: 0.8432 - loss: 0.3646 - val_accuracy: 0.8603 - val_loss: 0.3361\n",
      "Epoch 6/10\n",
      "\u001b[1m440/440\u001b[0m \u001b[32m━━━━━━━━━━━━━━━━━━━━\u001b[0m\u001b[37m\u001b[0m \u001b[1m1s\u001b[0m 2ms/step - accuracy: 0.8552 - loss: 0.3450 - val_accuracy: 0.8575 - val_loss: 0.3376\n",
      "Epoch 7/10\n",
      "\u001b[1m440/440\u001b[0m \u001b[32m━━━━━━━━━━━━━━━━━━━━\u001b[0m\u001b[37m\u001b[0m \u001b[1m1s\u001b[0m 1ms/step - accuracy: 0.8570 - loss: 0.3346 - val_accuracy: 0.8528 - val_loss: 0.3499\n",
      "Epoch 8/10\n",
      "\u001b[1m440/440\u001b[0m \u001b[32m━━━━━━━━━━━━━━━━━━━━\u001b[0m\u001b[37m\u001b[0m \u001b[1m1s\u001b[0m 2ms/step - accuracy: 0.8614 - loss: 0.3307 - val_accuracy: 0.8609 - val_loss: 0.3323\n",
      "Epoch 9/10\n",
      "\u001b[1m440/440\u001b[0m \u001b[32m━━━━━━━━━━━━━━━━━━━━\u001b[0m\u001b[37m\u001b[0m \u001b[1m1s\u001b[0m 2ms/step - accuracy: 0.8645 - loss: 0.3201 - val_accuracy: 0.8637 - val_loss: 0.3317\n",
      "Epoch 10/10\n",
      "\u001b[1m440/440\u001b[0m \u001b[32m━━━━━━━━━━━━━━━━━━━━\u001b[0m\u001b[37m\u001b[0m \u001b[1m1s\u001b[0m 1ms/step - accuracy: 0.8701 - loss: 0.3140 - val_accuracy: 0.8249 - val_loss: 0.4058\n"
     ]
    }
   ],
   "source": [
    "#C)\n",
    "num_classes = 2 # 0 for negative, 1 for positive\n",
    "input_size = 10000 \n",
    "seed(0)\n",
    "tf.random.set_seed(0)\n",
    "\n",
    "# convert the labels to one-hot encoded format\n",
    "y_train_oh = to_categorical(y_train, num_classes)\n",
    "y_val_oh = to_categorical(y_val, num_classes)\n",
    "\n",
    "\n",
    "model = Sequential() \n",
    "model.add(Dense(units = 32, activation='tanh', input_dim=input_size)) # add a hidden layer\n",
    "model.add(Dense(units = num_classes, activation='softmax')) #add the output layer\n",
    "model.summary()\n",
    "\n",
    "sgd = SGD(learning_rate = 0.1)\n",
    "model.compile(loss = 'categorical_crossentropy', optimizer = sgd, metrics = ['accuracy'])\n",
    "\n",
    "\n",
    "history = model.fit(X_train_bow, y_train_oh, \n",
    "                    epochs=10, batch_size=32, verbose=1,\n",
    "                    validation_data=(X_val_bow, y_val_oh))"
   ]
  },
  {
   "cell_type": "code",
   "execution_count": 73,
   "id": "ab4401e3",
   "metadata": {},
   "outputs": [
    {
     "data": {
      "image/png": "[encoded data removed]",
      "text/plain": [
       "<Figure size 640x480 with 1 Axes>"
      ]
     },
     "metadata": {},
     "output_type": "display_data"
    }
   ],
   "source": [
    "plt.figure()\n",
    "plt.title(\"Learning curves\")\n",
    "plt.xlabel(\"Epoch\")\n",
    "plt.ylabel(\"Cross entropy loss\")\n",
    "plt.plot(history.history['loss'], label = 'train')\n",
    "plt.plot(history.history['val_loss'], label = 'valid')\n",
    "plt.legend()\n",
    "plt.show()"
   ]
  },
  {
   "cell_type": "code",
   "execution_count": 74,
   "id": "1a55db46",
   "metadata": {},
   "outputs": [],
   "source": [
    "# optimize now here"
   ]
  }
 ],
 "metadata": {
  "kernelspec": {
   "display_name": "base",
   "language": "python",
   "name": "python3"
  },
  "language_info": {
   "codemirror_mode": {
    "name": "ipython",
    "version": 3
   },
   "file_extension": ".py",
   "mimetype": "text/x-python",
   "name": "python",
   "nbconvert_exporter": "python",
   "pygments_lexer": "ipython3",
   "version": "3.12.4"
  }
 },
 "nbformat": 4,
 "nbformat_minor": 5
}
